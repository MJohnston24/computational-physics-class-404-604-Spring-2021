{
 "cells": [
  {
   "cell_type": "code",
   "execution_count": null,
   "metadata": {},
   "outputs": [],
   "source": [
    "# Margaret Johnston\n",
    "# Homework 8 - due 18 April"
   ]
  },
  {
   "cell_type": "markdown",
   "metadata": {},
   "source": [
    "## Homework:\n",
    "\n",
    "Highly nonlinear oscillator: \n",
    "\n",
    "Recall the numerical solution for oscillations of a spring with power p = 12 (use F=-0.01\\*y[0]\\**11). Decompose the solution into a Fourier series and determine the number of higher harmonics that contribute at least 10%; for example, determine the n for which |bn /b1 | < 0.1. Check that resuming the components reproduces the signal.\n",
    "(Landau 289)\n",
    "\n",
    "Warning: please only sample the data within one period\n",
    "\n",
    "Landau, Rubin H., Manuel Páez, Cristian Bordeianu. Computational Physics: Problem Solving with Python, 3rd Edition. Wiley-Blackwell, 2015-07-15. VitalBook file."
   ]
  },
  {
   "cell_type": "code",
   "execution_count": null,
   "metadata": {},
   "outputs": [],
   "source": [
    "from numpy import *\n",
    "import matplotlib.pyplot as plt\n",
    "import cmath  \n",
    "import numpy as np\n"
   ]
  },
  {
   "cell_type": "code",
   "execution_count": 38,
   "metadata": {},
   "outputs": [
    {
     "data": {
      "image/png": "[encoded data removed]",
      "text/plain": [
       "<Figure size 432x288 with 1 Axes>"
      ]
     },
     "metadata": {
      "needs_background": "light"
     },
     "output_type": "display_data"
    },
    {
     "data": {
      "image/png": "[encoded data removed]",
      "text/plain": [
       "<Figure size 432x288 with 1 Axes>"
      ]
     },
     "metadata": {
      "needs_background": "light"
     },
     "output_type": "display_data"
    },
    {
     "data": {
      "image/png": "[encoded data removed]",
      "text/plain": [
       "<Figure size 432x288 with 1 Axes>"
      ]
     },
     "metadata": {
      "needs_background": "light"
     },
     "output_type": "display_data"
    }
   ],
   "source": [
    "#   Initialization\n",
    "a = 0.\n",
    "b = 7\n",
    "n = 100\n",
    "twopi  = 2.*pi\n",
    "sq2pi = 1./sqrt(twopi)\n",
    "step = 2.*pi/n\n",
    "\n",
    "ydumb = np.zeros((2), float);    y = np.zeros((2), float)\n",
    "fReturn = np.zeros((2), float);  k1 = np.zeros((2), float)\n",
    "k2 = np.zeros((2), float);       k3 = np.zeros((2), float) \n",
    "k4 = np.zeros((2), float)\n",
    "y[0] = 0.;   y[1] = -1.\n",
    "t = a;       h = (b-a)/n;\n",
    "xp=np.array([0.0])\n",
    "yp=np.array([y[0]])\n",
    "\n",
    "dftz  = zeros( n, complex )                  # Complex elements\n",
    "nplot = zeros( n, float )   \n",
    "fplot = zeros( n, float ) \n",
    "inv_ft  = zeros( n, complex )                  # Complex elements\n",
    "inv_n = zeros( n, float )   \n",
    "inv_f = zeros( n, float ) \n",
    "\n",
    "def f( t, y):                            # Force function \n",
    "    fReturn[0] = y[1]                                         \n",
    "    fReturn[1] = -0.01*y[0]**11  \n",
    "    return fReturn\n",
    "\n",
    "def rk4(t,h,n):                 \n",
    "    k1 = [0]*(n)\n",
    "    k2 = [0]*(n)\n",
    "    k3 = [0]*(n)\n",
    "    k4 = [0]*(n)\n",
    "    fR = [0]*(n)\n",
    "    ydumb = [0]*(n)\n",
    "    fR = f(t, y)                        # Returns RHS's  \n",
    "    for i in range(0, n):\n",
    "        k1[i] = h*fR[i]                             \n",
    "    for i in range(0, n):\n",
    "        ydumb[i] = y[i] + k1[i]/2. \n",
    "    k2 = h*f(t+h/2., ydumb) \n",
    "    for i in range(0, n):\n",
    "        ydumb[i] = y[i] + k2[i]/2. \n",
    "    k3 = h*f(t+h/2., ydumb)\n",
    "    for i in range(0, n):\n",
    "        ydumb[i] = y[i] + k3[i] \n",
    "    k4 = h*f(t+h, ydumb) \n",
    "    for i in range(0, 2):\n",
    "        y[i] = y[i] + (k1[i] + 2.*(k2[i] + k3[i]) + k4[i])/6.\n",
    "    return y    \n",
    "\n",
    "def fourier2(dftz):                                              # DFT\n",
    "    for iii in range(0, n):              \n",
    "        zsum = complex(0.0, 0.0)                \n",
    "        for jjj in range(0, n):                              \n",
    "            zexpo = complex(0, twopi*jjj*iii/n)           # Complex exponent\n",
    "            zsum += yp[jjj]*exp(-zexpo)           \n",
    "        dftz[iii] = zsum * sq2pi      \n",
    "        nplot[iii] = iii/n/step\n",
    "        fplot[iii] = dftz[iii].imag*dftz[iii].imag+dftz[iii].real*dftz[iii].real\n",
    "\n",
    "def inv_fourier2(inv_ft):\n",
    "    for iii in range(0,n):\n",
    "        zsum = complex(0.0, 0.0)                \n",
    "        for jjj in range(0, n):                              \n",
    "            zexpo = complex(0, twopi*jjj*iii/n)           # Complex exponent\n",
    "            zsum += dftz[jjj]*exp(zexpo)    \n",
    "        inv_ft[iii] = zsum*sq2pi\n",
    "        inv_n[iii] = iii/n/step\n",
    "        inv_f[iii] = inv_ft[iii].imag*inv_ft[iii].imag+inv_ft[iii].real*inv_ft[iii].real\n",
    "        \n",
    "# creating the signal\n",
    "while (t < b):                          # Time loop\n",
    "    if ((t + h) > b):\n",
    "        h = b - t                       # Last step\n",
    "    y = rk4(t,h,2)\n",
    "    t = t + h\n",
    "    xp=np.append(xp, t)\n",
    "    yp=np.append(yp,y[0])\n",
    "\n",
    "# taking the fourier transform\n",
    "fourier2(dftz)\n",
    "# taking the inverse fourier transform\n",
    "inv_fourier2(inv_ft)\n",
    "\n",
    "plt.plot(xp,yp)\n",
    "plt.xlabel(\"t\")\n",
    "plt.title(\"signal\")\n",
    "plt.xlim([a,b])\n",
    "plt.show()\n",
    "plt.scatter(nplot,fplot)\n",
    "plt.xlabel(r\"$\\omega$\")\n",
    "plt.title(\"fourier transform\")\n",
    "plt.xlim([0.,3.])\n",
    "plt.show()\n",
    "plt.scatter(inv_n,inv_f)\n",
    "plt.xlabel(\"t\")\n",
    "plt.title(\"inverse fourier transform\")\n",
    "plt.xlim([a,b])\n",
    "plt.show()"
   ]
  },
  {
   "cell_type": "markdown",
   "metadata": {},
   "source": [
    "The fourier transform only has one frequency that contributes significantly to the signal. We would expect that other harmonics contribute significantly because the original signal is sufficiently different from the sin wave. The triangle behavior of the original signal should require contributions from several harmonics.\n",
    "\n",
    "Although the harmonics are not captured by the fourier transform, the period is well described. With the invers transform, we recover a function with the same period as the signal, but unsurprisingly the shape is very different. Without the harmonics necessary to describe the original signal, we are left with a function that is very different."
   ]
  },
  {
   "cell_type": "code",
   "execution_count": null,
   "metadata": {},
   "outputs": [],
   "source": []
  }
 ],
 "metadata": {
  "kernelspec": {
   "display_name": "Python 3",
   "language": "python",
   "name": "python3"
  },
  "language_info": {
   "codemirror_mode": {
    "name": "ipython",
    "version": 3
   },
   "file_extension": ".py",
   "mimetype": "text/x-python",
   "name": "python",
   "nbconvert_exporter": "python",
   "pygments_lexer": "ipython3",
   "version": "3.7.3"
  }
 },
 "nbformat": 4,
 "nbformat_minor": 4
}
