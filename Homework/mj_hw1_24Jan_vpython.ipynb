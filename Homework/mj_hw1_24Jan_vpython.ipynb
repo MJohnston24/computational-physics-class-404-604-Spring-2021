{
 "cells": [
  {
   "cell_type": "code",
   "execution_count": null,
   "metadata": {},
   "outputs": [],
   "source": [
    "# Margaret Johnston\n",
    "# Homework 1 - due 24 January - vpython animation"
   ]
  },
  {
   "cell_type": "markdown",
   "metadata": {},
   "source": [
    "I have animated a toy model of the inner solar system. The planets have appropriately scaled radii and orbital distance. The solar radius is not to scale so the planets are easily visible. This animation traces out circular orbits for the planets which are synchronized to each of their respective orbital periods."
   ]
  },
  {
   "cell_type": "code",
   "execution_count": 1,
   "metadata": {},
   "outputs": [
    {
     "data": {
      "text/html": [
       "<div id=\"glowscript\" class=\"glowscript\"></div>"
      ],
      "text/plain": [
       "<IPython.core.display.HTML object>"
      ]
     },
     "metadata": {},
     "output_type": "display_data"
    },
    {
     "data": {
      "application/javascript": [
       "if (typeof Jupyter !== \"undefined\") { window.__context = { glowscript_container: $(\"#glowscript\").removeAttr(\"id\")};}else{ element.textContent = ' ';}"
      ],
      "text/plain": [
       "<IPython.core.display.Javascript object>"
      ]
     },
     "metadata": {},
     "output_type": "display_data"
    }
   ],
   "source": [
    "import vpython as vpy\n",
    "import numpy as np"
   ]
  },
  {
   "cell_type": "code",
   "execution_count": 2,
   "metadata": {},
   "outputs": [
    {
     "data": {
      "application/javascript": [
       "if (typeof Jupyter !== \"undefined\") {require.undef(\"nbextensions/vpython_libraries/glow.min\");}else{element.textContent = ' ';}"
      ],
      "text/plain": [
       "<IPython.core.display.Javascript object>"
      ]
     },
     "metadata": {},
     "output_type": "display_data"
    },
    {
     "data": {
      "application/javascript": [
       "if (typeof Jupyter !== \"undefined\") {require.undef(\"nbextensions/vpython_libraries/glowcomm\");}else{element.textContent = ' ';}"
      ],
      "text/plain": [
       "<IPython.core.display.Javascript object>"
      ]
     },
     "metadata": {},
     "output_type": "display_data"
    },
    {
     "data": {
      "application/javascript": [
       "if (typeof Jupyter !== \"undefined\") {require.undef(\"nbextensions/vpython_libraries/jquery-ui.custom.min\");}else{element.textContent = ' ';}"
      ],
      "text/plain": [
       "<IPython.core.display.Javascript object>"
      ]
     },
     "metadata": {},
     "output_type": "display_data"
    },
    {
     "data": {
      "application/javascript": [
       "if (typeof Jupyter !== \"undefined\") {require([\"nbextensions/vpython_libraries/glow.min\"], function(){console.log(\"GLOW LOADED\");});}else{element.textContent = ' ';}"
      ],
      "text/plain": [
       "<IPython.core.display.Javascript object>"
      ]
     },
     "metadata": {},
     "output_type": "display_data"
    },
    {
     "data": {
      "application/javascript": [
       "if (typeof Jupyter !== \"undefined\") {require([\"nbextensions/vpython_libraries/glowcomm\"], function(){console.log(\"GLOWCOMM LOADED\");});}else{element.textContent = ' ';}"
      ],
      "text/plain": [
       "<IPython.core.display.Javascript object>"
      ]
     },
     "metadata": {},
     "output_type": "display_data"
    },
    {
     "data": {
      "application/javascript": [
       "if (typeof Jupyter !== \"undefined\") {require([\"nbextensions/vpython_libraries/jquery-ui.custom.min\"], function(){console.log(\"JQUERY LOADED\");});}else{element.textContent = ' ';}"
      ],
      "text/plain": [
       "<IPython.core.display.Javascript object>"
      ]
     },
     "metadata": {},
     "output_type": "display_data"
    }
   ],
   "source": [
    "# define the radii of the sun and the rocky planets - units are 10^6 m\n",
    "r_sun,r_merc,r_ven,r_ear,r_mars = 2,0.24,0.6,0.63,0.33\n",
    "# define the orbital radii of the rocky planets - units are 10^7 m\n",
    "d_merc,d_ven,d_ear,d_mars = 5.7,10.8,14.9,22.7\n",
    "# define the orbital period of the rocky planets - units are 10^-1 days\n",
    "t_merc,t_ven,t_ear,t_mars = 8.8,22.47,36.53,68.7\n",
    "\n",
    "# describe the solar system bodies\n",
    "sun = vpy.sphere(color=vpy.color.yellow,radius=r_sun)\n",
    "mercury = vpy.sphere(pos=vpy.vector(d_merc,0,0),radius=r_merc,color=vpy.color.orange,make_trail=True)\n",
    "venus = vpy.sphere(pos=vpy.vector(d_ven,0,0),radius=r_ven,color=vpy.color.yellow,make_trail=True)\n",
    "earth = vpy.sphere(pos=vpy.vector(d_ear,0,0),radius=r_ear,color=vpy.color.cyan,make_trail=True)\n",
    "mars = vpy.sphere(pos=vpy.vector(d_mars,0,0),radius=r_mars,color=vpy.color.red,make_trail=True)\n",
    "\n",
    "# draw the solar system bodies on the canvas\n",
    "sun\n",
    "mercury\n",
    "venus\n",
    "earth\n",
    "mars"
   ]
  },
  {
   "cell_type": "code",
   "execution_count": 3,
   "metadata": {},
   "outputs": [],
   "source": [
    "for theta in np.arange(0,100*np.pi,0.1):\n",
    "    vpy.rate(30)\n",
    "    # update the cartesian coordinates of the planets\n",
    "    mercury.pos = vpy.vector(d_merc*np.cos(theta/t_merc),d_merc*np.sin(theta/t_merc),0)\n",
    "    venus.pos = vpy.vector(d_ven*np.cos(theta/t_ven),d_ven*np.sin(theta/t_ven),0)\n",
    "    earth.pos = vpy.vector(d_ear*np.cos(theta/t_ear),d_ear*np.sin(theta/t_ear),0)\n",
    "    mars.pos = vpy.vector(d_mars*np.cos(theta/t_mars),d_mars*np.sin(theta/t_mars),0)"
   ]
  },
  {
   "cell_type": "code",
   "execution_count": null,
   "metadata": {},
   "outputs": [],
   "source": []
  }
 ],
 "metadata": {
  "kernelspec": {
   "display_name": "Python 3",
   "language": "python",
   "name": "python3"
  },
  "language_info": {
   "codemirror_mode": {
    "name": "ipython",
    "version": 3
   },
   "file_extension": ".py",
   "mimetype": "text/x-python",
   "name": "python",
   "nbconvert_exporter": "python",
   "pygments_lexer": "ipython3",
   "version": "3.7.3"
  }
 },
 "nbformat": 4,
 "nbformat_minor": 2
}
