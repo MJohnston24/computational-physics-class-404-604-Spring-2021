{
 "cells": [
  {
   "cell_type": "code",
   "execution_count": null,
   "metadata": {},
   "outputs": [],
   "source": [
    "# Margaret Johnston\n",
    "# Homework 3 - due 14 February"
   ]
  },
  {
   "cell_type": "markdown",
   "metadata": {},
   "source": [
    "I couldn't get my code to work entirely correctly. I based my Newton-Raphson function on the function \"newtonraphsonbacktracking\" from class, and modified it to work for a two equation system.\n",
    "\n",
    "My function is able to run:\n",
    "- it takes in the necessary quantities and spits out numbers\n",
    "- it calculates the partial derivatives\n",
    "- it calculates the $\\Delta x$ using the partial derivatives\n",
    "- it iteratively updates the original guess and calculates a new guess\n",
    "\n",
    "My code has with two problems I'm not sure how to fix:\n",
    "- the code does not converge (subsequent values of f do not approach zero) unless $x_1=2$ and $x_2=3$ in which case the system converges immediately (this seems to be the point we should converge toward)\n",
    "- the second while loop runs infinitely for many values of $(x_1,x_2)$ which indicates that the changes to $\\Delta x$ are not being propogated through to the rest of the code when in the while loop\n",
    "\n",
    "I've done my best to have clear debugging text and comments, but haven't been able to determine what is wrong."
   ]
  },
  {
   "cell_type": "markdown",
   "metadata": {},
   "source": [
    "# Homework:\n",
    "\n",
    "Homework: use the Newton-Raphson method to solve equation arrays\n",
    "\n",
    "\\begin{eqnarray}\n",
    "x_{1}^2+x_{1}x_{2}=10\\\\\n",
    "x_{2}+3x_{1}x_{2}^2=57\n",
    "\\end{eqnarray}\n",
    "Hint: first you need to derive the partical derivative of the equation arrays. You can do it either analytically by hand or numerically using method we learned in the last lecture."
   ]
  },
  {
   "cell_type": "code",
   "execution_count": 1,
   "metadata": {},
   "outputs": [],
   "source": [
    "import matplotlib.pyplot as plt\n",
    "import numpy as np"
   ]
  },
  {
   "cell_type": "code",
   "execution_count": 2,
   "metadata": {},
   "outputs": [
    {
     "data": {
      "image/png": "[encoded data removed]",
      "text/plain": [
       "<Figure size 432x288 with 1 Axes>"
      ]
     },
     "metadata": {
      "needs_background": "light"
     },
     "output_type": "display_data"
    }
   ],
   "source": [
    "# f1 in terms of x2\n",
    "def f1(x):\n",
    "    return (10.-x*x)/x\n",
    "\n",
    "# f2 in terms of x2\n",
    "def f2(x):\n",
    "    return (-1+np.sqrt(1.+4.*3.*x*57))/6./x\n",
    "\n",
    "# Draw graphics to get a sense of the problem\n",
    "x = np.arange(0.1, 10.0, 0.01)\n",
    "\n",
    "plt.plot(x,f1(x),label='$f_{1}(x)$')\n",
    "plt.plot(x,f2(x),label='$f_{2}(x)$')\n",
    "plt.xlabel('x')\n",
    "plt.ylabel('f')\n",
    "plt.ylim([-4,10])\n",
    "plt.legend()\n",
    "plt.show()"
   ]
  },
  {
   "cell_type": "code",
   "execution_count": 3,
   "metadata": {},
   "outputs": [],
   "source": [
    "# defining f1, f2, and d/dx in terms of x1 and x2\n",
    "def f1_2(x1,x2):\n",
    "    f1 = x1*x1 + x1*x2 - 10\n",
    "    return f1\n",
    "\n",
    "def f2_2(x1,x2):\n",
    "    f2 = x2 + 3*x1*x2*x2 - 57\n",
    "    return f2\n",
    "\n",
    "def dydx_cd_2(y,x_part,x_const,dx):\n",
    "    dydx = (y(x_part+dx/2,x_const)-y(x_part-dx/2,x_const))/dx\n",
    "    return dydx\n",
    "\n",
    "# setting up the Newton-Raphson method\n",
    "def NR_system(x0,dx,Nmax,eps):\n",
    "    for iii in range(0,Nmax):\n",
    "        # calculate the partials\n",
    "        F[0,0] = dydx_cd_2(f1_2,x0[0],x0[1],dx)\n",
    "        F[0,1] = dydx_cd_2(f1_2,x0[1],x0[0],dx)\n",
    "        F[1,0] = dydx_cd_2(f2_2,x0[0],x0[1],dx)\n",
    "        F[1,1] = dydx_cd_2(f2_2,x0[1],x0[0],dx)\n",
    "        \n",
    "        # calculate delta x, using elements of F\n",
    "        delx1 = (F[0,1]*f2_2(x0[0],x0[1])-F[1,1]*f1_2(x0[0],x0[1]))/(F[0,0]*F[1,1]-F[0,1]*F[1,0])\n",
    "        delx2 = (F[1,0]*f1_2(x0[0],x0[1])-F[0,0]*f2_2(x0[0],x0[1]))/(F[0,0]*F[1,1]-F[0,1]*F[1,0])\n",
    "        \n",
    "        # decreasing delta x in case of false extrema (backtracking safety)\n",
    "        if do_while==True: \n",
    "            while (abs(f1_2(x0[0]+delx1,x0[1]+delx2))>abs(f1_2(x0[0],x0[1]))):\n",
    "                delx1 = delx1/2.\n",
    "                if debug > 2:\n",
    "                    print(\"  in while 1\")\n",
    "                    print(\"    x0={}{}   f={}{}   delx={}{}\".format(x0[0],x0[1],f1_2(x0[0],x0[1]),f2_2(x0[0],x0[1]),delx1,delx2))\n",
    "            while (abs(f2_2(x0[0]+delx1,x0[1]+delx2))>abs(f2_2(x0[0],x0[1]))):\n",
    "                delx2 = delx2/2.\n",
    "                if debug > 2:\n",
    "                    print(\"  in while 2\")\n",
    "                    print(\"    x0={}{}   f={}{}   delx={}{}\".format(x0[0],x0[1],f1_2(x0[0],x0[1]),f2_2(x0[0],x0[1]),delx1,delx2))\n",
    "        \n",
    "        # what have we got so far\n",
    "        if debug > 1:\n",
    "            print(\"-- -- -- -- --\")\n",
    "            print(\"round {}\".format(iii))\n",
    "            print(\"x0={}{}   f={}{}   delx={}{}\".format(x0[0],x0[1],f1_2(x0[0],x0[1]),f2_2(x0[0],x0[1]),delx1,delx2))\n",
    "            print(\"-- -- -- -- --\")\n",
    "        \n",
    "        # update the guess\n",
    "        x0[0] += delx1\n",
    "        x0[1] += delx2\n",
    "        \n",
    "        # end the loop if we find the root\n",
    "        if(abs(f1_2(x0[0],x0[1]))<eps and abs(f2_2(x0[0],x0[1]))<eps):\n",
    "            print(\"Root is at (x1,x2){}{} after {} iterations, with a precision of {}\".format(x0[0],x0[1],iii,abs(f1_2(x0[0],x0[1]))))\n",
    "            break\n",
    "    if iii == Nmax-1:\n",
    "        print(\"The root was not found after {} iterations. The intermediate x0 is :{}{}\".format(Nmax,x0[0],x0[1]))\n",
    "    # return x0"
   ]
  },
  {
   "cell_type": "code",
   "execution_count": 4,
   "metadata": {},
   "outputs": [
    {
     "name": "stdout",
     "output_type": "stream",
     "text": [
      "The root was not found after 15 iterations. The intermediate x0 is :[0.17317525][9.98282784]\n"
     ]
    }
   ],
   "source": [
    "# initialize x1, x2\n",
    "x0 = np.zeros((2,1))\n",
    "x0[0] = 2 # x1\n",
    "x0[1] = 3.1 # x2\n",
    "\n",
    "# initialize F\n",
    "F = np.zeros((2,2))\n",
    "\n",
    "# set up for Newton-Raphson\n",
    "dx = 0.1\n",
    "eps = 1e-8\n",
    "nmax = 15 # CAUTION: while statement 2 fails if nmax>12 leave do_while on False for large nmax\n",
    "\n",
    "# set debug=0 for no debugging text\n",
    "# set debug=2 for if loop text\n",
    "# set debug=3 for while loop text\n",
    "debug = 0\n",
    "do_while = False\n",
    "NR_system(x0,dx,nmax,eps)"
   ]
  },
  {
   "cell_type": "code",
   "execution_count": null,
   "metadata": {},
   "outputs": [],
   "source": []
  }
 ],
 "metadata": {
  "kernelspec": {
   "display_name": "Python 3",
   "language": "python",
   "name": "python3"
  },
  "language_info": {
   "codemirror_mode": {
    "name": "ipython",
    "version": 3
   },
   "file_extension": ".py",
   "mimetype": "text/x-python",
   "name": "python",
   "nbconvert_exporter": "python",
   "pygments_lexer": "ipython3",
   "version": "3.7.3"
  }
 },
 "nbformat": 4,
 "nbformat_minor": 4
}
