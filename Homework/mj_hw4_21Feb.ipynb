{
 "cells": [
  {
   "cell_type": "code",
   "execution_count": null,
   "metadata": {},
   "outputs": [],
   "source": [
    "# Margaret Johnston\n",
    "# Homework 4 - due 21 February"
   ]
  },
  {
   "cell_type": "markdown",
   "metadata": {},
   "source": [
    "# Homework:\n",
    "\n",
    "Homework: Write your own Euler or any scheme to calculate the orbit of two equal mass binary.\n",
    "\n",
    "The mass of each binary makes GM$_{i}$=1, (i is 1 or 2). The two binary stars are seperated by a distance of 1 initially. \n",
    "\n",
    "Initialize the binary velocity so that each binary star will have an eccentricity of 0.0. Evolve this system to 100 binary orbits, and plot their orbits in the x-y plane. "
   ]
  },
  {
   "cell_type": "code",
   "execution_count": 1,
   "metadata": {},
   "outputs": [],
   "source": [
    "import matplotlib.pyplot as plt\n",
    "import numpy as np"
   ]
  },
  {
   "cell_type": "markdown",
   "metadata": {},
   "source": [
    "It's important to understand the orbit analytically before attempting to do anything numerically.\n",
    "\n",
    "Analytically, we start with a six dimensional problem with two bodies moving in three dimensional space ($x_{1}$, $y_{1}$, $z_{1}$, $x_{2}$, $y_{2}$, $z_{2}$). First we identify the plane which the orbits occupy, reducing the dimensionality to four ($x_{1}$, $y_{1}$, $x_{2}$, $y_{2}$). We would solve the problem an orbiting binary by moving into the frame of one the larger mass and using the reduced mass $\\mu$ as the orbiting body. This reduces the dimensionality from four ($x_{1}$, $y_{1}$, $x_{2}$, $y_{2}$) to two ($x_{\\mu}$, $y_{\\mu}$), and is identical to the planet orbiting a star which we solved in class. \n",
    "\n",
    "However, since we can solve this numerically, we don't need to worry so much about reducing the dimensionality of the problem to this extreme. In fact, because we want to track the motions of both stars, it is advantagous to keep the information of the four dimensional problem. \n",
    "\n",
    "The problem can be expressed as two bodies moving in the orbital plane:\n",
    "\n",
    "$\\frac{d x_{1}}{dt}=v_{x_{1}}\\\\\n",
    "\\frac{d v_{x_{1}}}{dt}=-\\frac{GM_{1}M_{2}}{r_{1}^3}x_{1}\\\\\n",
    "\\frac{d y_{1}}{dt}=v_{y_{1}}\\\\\n",
    "\\frac{d v_{y_{1}}}{dt}=-\\frac{GM_{1}M_{2}}{r_{1}^3}y_{1}\\\\\n",
    "\\frac{d x_{2}}{dt}=v_{x_{2}}\\\\\n",
    "\\frac{d v_{x_{2}}}{dt}=-\\frac{GM_{1}M_{2}}{r_{2}^3}x_{2}\\\\\n",
    "\\frac{d y_{2}}{dt}=v_{y_{2}}\\\\\n",
    "\\frac{d v_{y_{2}}}{dt}=-\\frac{GM_{2}M_{2}}{r_{2}^3}y_{2}\\\\\n",
    "$\n",
    "\n",
    "where $r_{1}=\\sqrt{x_{1}^2+y_{1}^2}$, $r_{2}=\\sqrt{x_{2}^2+y_{2}^2}$ \n",
    "\n",
    "So long as we start the objects symmetrically about the center of mass, ensuring the center of mass is along the line which connects the two bodies, our solution will be valid."
   ]
  },
  {
   "cell_type": "code",
   "execution_count": 2,
   "metadata": {},
   "outputs": [],
   "source": [
    "# the vector of first order ODEs\n",
    "def f(t, y):\n",
    "    f=np.zeros(8)\n",
    "    r1=np.sqrt(y[0]*y[0]+y[2]*y[2])\n",
    "    r2=np.sqrt(y[4]*y[4]+y[6]*y[6])\n",
    "    f[0]=y[1]\n",
    "    f[1]=-G*M1*M2/r1/r1/r1*y[0]\n",
    "    f[2]=y[3]\n",
    "    f[3]=-G*M1*M2/r1/r1/r1*y[2]\n",
    "    f[4]=y[5]\n",
    "    f[5]=-G*M1*M2/r2/r2/r2*y[4]\n",
    "    f[6]=y[7]\n",
    "    f[7]=-G*M1*M2/r2/r2/r2*y[6]\n",
    "    return f\n",
    "    \n",
    "# Runga-Kutta for updating the posiitions\n",
    "def rk4(t, h, y, n):\n",
    "    k1 = np.zeros(n)\n",
    "    k2 = np.zeros(n)\n",
    "    k3 = np.zeros(n)\n",
    "    k4 = np.zeros(n)\n",
    "    k1 = h*f(t,y)\n",
    "    k2 = h*f(t+0.5*h,y+0.5*k1)\n",
    "    k3 = h*f(t+0.5*h,y+0.5*k2)\n",
    "    k4 = h*f(t+0.5*h,y+k3) \n",
    "    y += (k1+2*k2+2*k3+k4)/6\n",
    "    return y\n"
   ]
  },
  {
   "cell_type": "code",
   "execution_count": 15,
   "metadata": {},
   "outputs": [],
   "source": [
    "G = 1.\n",
    "M1= 1.\n",
    "M2= 1.\n",
    "# run the simulation for 100 orbits\n",
    "tmax=200.*np.pi \n",
    "h=0.001\n",
    "# initialize the positions to have a separation of 1, the velocities must by +-\\sqrt(2)\n",
    "y=[.5,0.,0.,np.sqrt(2),-.5,0.,0.,-np.sqrt(2)]\n",
    "t=0\n",
    "\n",
    "xs1 = [] # position of star 1 storage\n",
    "ys1 = []\n",
    "xs2 = [] # position of star 2 storage\n",
    "ys2 = []\n",
    "\n",
    "while(t<tmax):\n",
    "    if((t+h)>tmax):\n",
    "        h=tmax-t\n",
    "    y  = rk4(t,h,y,4)\n",
    "    xs1= np.append(xs1,y[0])\n",
    "    ys1= np.append(ys1,y[2])\n",
    "    xs2= np.append(xs2,y[4])\n",
    "    ys2= np.append(ys2,y[6])\n",
    "    t  = t+h\n",
    "    "
   ]
  },
  {
   "cell_type": "code",
   "execution_count": 17,
   "metadata": {},
   "outputs": [
    {
     "data": {
      "image/png": "[encoded data removed]",
      "text/plain": [
       "<Figure size 504x504 with 1 Axes>"
      ]
     },
     "metadata": {
      "needs_background": "light"
     },
     "output_type": "display_data"
    }
   ],
   "source": [
    "plt.figure(figsize=(7,7))\n",
    "plt.plot(xs1,ys1,':',label='star 1')\n",
    "plt.plot(xs2,ys2,':',label='star 2')\n",
    "plt.legend(loc='upper right')\n",
    "\n",
    "plt.show()"
   ]
  },
  {
   "cell_type": "markdown",
   "metadata": {},
   "source": [
    "With an eccentricity of 1 and a symmetric separation, the two stars occupy the same orbit. \n",
    "\n",
    "With the Runga-Kutta method, we have excellent agreement with this result."
   ]
  },
  {
   "cell_type": "code",
   "execution_count": null,
   "metadata": {},
   "outputs": [],
   "source": []
  }
 ],
 "metadata": {
  "kernelspec": {
   "display_name": "Python 3",
   "language": "python",
   "name": "python3"
  },
  "language_info": {
   "codemirror_mode": {
    "name": "ipython",
    "version": 3
   },
   "file_extension": ".py",
   "mimetype": "text/x-python",
   "name": "python",
   "nbconvert_exporter": "python",
   "pygments_lexer": "ipython3",
   "version": "3.7.3"
  }
 },
 "nbformat": 4,
 "nbformat_minor": 4
}
